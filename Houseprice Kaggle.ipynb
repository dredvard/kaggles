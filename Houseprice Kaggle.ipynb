{
 "cells": [
  {
   "cell_type": "markdown",
   "metadata": {},
   "source": [
    "# Kaggle Competitions"
   ]
  },
  {
   "cell_type": "code",
   "execution_count": 1,
   "metadata": {},
   "outputs": [
    {
     "data": {
      "text/plain": [
       "'M:\\\\Python\\\\Jupyter\\\\kaggles-master'"
      ]
     },
     "execution_count": 1,
     "metadata": {},
     "output_type": "execute_result"
    }
   ],
   "source": [
    "import pandas as pd\n",
    "import matplotlib.pyplot as plt\n",
    "import seaborn as sns\n",
    "import os\n",
    "import warnings\n",
    "import numpy as np\n",
    "\n",
    "color = sns.color_palette()\n",
    "sns.set_style('darkgrid')\n",
    "\n",
    "from scipy import stats\n",
    "from scipy.stats import norm, skew #for some statistics\n",
    "def ignore_warn(*args, **kwargs):\n",
    "    pass\n",
    "#warnings.warn = ignore_warn #ignore annoying warning (from sklearn and seaborn)\n",
    "os.getcwd()\n"
   ]
  },
  {
   "cell_type": "code",
   "execution_count": 2,
   "metadata": {},
   "outputs": [],
   "source": [
    "df_train = pd.read_csv('train.csv')\n",
    "df_test = pd.read_csv('test.csv')\n"
   ]
  },
  {
   "cell_type": "code",
   "execution_count": 3,
   "metadata": {},
   "outputs": [
    {
     "data": {
      "text/html": [
       "<div>\n",
       "<style scoped>\n",
       "    .dataframe tbody tr th:only-of-type {\n",
       "        vertical-align: middle;\n",
       "    }\n",
       "\n",
       "    .dataframe tbody tr th {\n",
       "        vertical-align: top;\n",
       "    }\n",
       "\n",
       "    .dataframe thead th {\n",
       "        text-align: right;\n",
       "    }\n",
       "</style>\n",
       "<table border=\"1\" class=\"dataframe\">\n",
       "  <thead>\n",
       "    <tr style=\"text-align: right;\">\n",
       "      <th></th>\n",
       "      <th>Id</th>\n",
       "      <th>MSSubClass</th>\n",
       "      <th>MSZoning</th>\n",
       "      <th>LotFrontage</th>\n",
       "      <th>LotArea</th>\n",
       "      <th>Street</th>\n",
       "      <th>Alley</th>\n",
       "      <th>LotShape</th>\n",
       "      <th>LandContour</th>\n",
       "      <th>Utilities</th>\n",
       "      <th>...</th>\n",
       "      <th>PoolArea</th>\n",
       "      <th>PoolQC</th>\n",
       "      <th>Fence</th>\n",
       "      <th>MiscFeature</th>\n",
       "      <th>MiscVal</th>\n",
       "      <th>MoSold</th>\n",
       "      <th>YrSold</th>\n",
       "      <th>SaleType</th>\n",
       "      <th>SaleCondition</th>\n",
       "      <th>SalePrice</th>\n",
       "    </tr>\n",
       "  </thead>\n",
       "  <tbody>\n",
       "    <tr>\n",
       "      <th>0</th>\n",
       "      <td>1</td>\n",
       "      <td>60</td>\n",
       "      <td>RL</td>\n",
       "      <td>65.0</td>\n",
       "      <td>8450</td>\n",
       "      <td>Pave</td>\n",
       "      <td>NaN</td>\n",
       "      <td>Reg</td>\n",
       "      <td>Lvl</td>\n",
       "      <td>AllPub</td>\n",
       "      <td>...</td>\n",
       "      <td>0</td>\n",
       "      <td>NaN</td>\n",
       "      <td>NaN</td>\n",
       "      <td>NaN</td>\n",
       "      <td>0</td>\n",
       "      <td>2</td>\n",
       "      <td>2008</td>\n",
       "      <td>WD</td>\n",
       "      <td>Normal</td>\n",
       "      <td>208500</td>\n",
       "    </tr>\n",
       "    <tr>\n",
       "      <th>1</th>\n",
       "      <td>2</td>\n",
       "      <td>20</td>\n",
       "      <td>RL</td>\n",
       "      <td>80.0</td>\n",
       "      <td>9600</td>\n",
       "      <td>Pave</td>\n",
       "      <td>NaN</td>\n",
       "      <td>Reg</td>\n",
       "      <td>Lvl</td>\n",
       "      <td>AllPub</td>\n",
       "      <td>...</td>\n",
       "      <td>0</td>\n",
       "      <td>NaN</td>\n",
       "      <td>NaN</td>\n",
       "      <td>NaN</td>\n",
       "      <td>0</td>\n",
       "      <td>5</td>\n",
       "      <td>2007</td>\n",
       "      <td>WD</td>\n",
       "      <td>Normal</td>\n",
       "      <td>181500</td>\n",
       "    </tr>\n",
       "    <tr>\n",
       "      <th>2</th>\n",
       "      <td>3</td>\n",
       "      <td>60</td>\n",
       "      <td>RL</td>\n",
       "      <td>68.0</td>\n",
       "      <td>11250</td>\n",
       "      <td>Pave</td>\n",
       "      <td>NaN</td>\n",
       "      <td>IR1</td>\n",
       "      <td>Lvl</td>\n",
       "      <td>AllPub</td>\n",
       "      <td>...</td>\n",
       "      <td>0</td>\n",
       "      <td>NaN</td>\n",
       "      <td>NaN</td>\n",
       "      <td>NaN</td>\n",
       "      <td>0</td>\n",
       "      <td>9</td>\n",
       "      <td>2008</td>\n",
       "      <td>WD</td>\n",
       "      <td>Normal</td>\n",
       "      <td>223500</td>\n",
       "    </tr>\n",
       "    <tr>\n",
       "      <th>3</th>\n",
       "      <td>4</td>\n",
       "      <td>70</td>\n",
       "      <td>RL</td>\n",
       "      <td>60.0</td>\n",
       "      <td>9550</td>\n",
       "      <td>Pave</td>\n",
       "      <td>NaN</td>\n",
       "      <td>IR1</td>\n",
       "      <td>Lvl</td>\n",
       "      <td>AllPub</td>\n",
       "      <td>...</td>\n",
       "      <td>0</td>\n",
       "      <td>NaN</td>\n",
       "      <td>NaN</td>\n",
       "      <td>NaN</td>\n",
       "      <td>0</td>\n",
       "      <td>2</td>\n",
       "      <td>2006</td>\n",
       "      <td>WD</td>\n",
       "      <td>Abnorml</td>\n",
       "      <td>140000</td>\n",
       "    </tr>\n",
       "    <tr>\n",
       "      <th>4</th>\n",
       "      <td>5</td>\n",
       "      <td>60</td>\n",
       "      <td>RL</td>\n",
       "      <td>84.0</td>\n",
       "      <td>14260</td>\n",
       "      <td>Pave</td>\n",
       "      <td>NaN</td>\n",
       "      <td>IR1</td>\n",
       "      <td>Lvl</td>\n",
       "      <td>AllPub</td>\n",
       "      <td>...</td>\n",
       "      <td>0</td>\n",
       "      <td>NaN</td>\n",
       "      <td>NaN</td>\n",
       "      <td>NaN</td>\n",
       "      <td>0</td>\n",
       "      <td>12</td>\n",
       "      <td>2008</td>\n",
       "      <td>WD</td>\n",
       "      <td>Normal</td>\n",
       "      <td>250000</td>\n",
       "    </tr>\n",
       "  </tbody>\n",
       "</table>\n",
       "<p>5 rows × 81 columns</p>\n",
       "</div>"
      ],
      "text/plain": [
       "   Id  MSSubClass MSZoning  LotFrontage  LotArea Street Alley LotShape  \\\n",
       "0   1          60       RL         65.0     8450   Pave   NaN      Reg   \n",
       "1   2          20       RL         80.0     9600   Pave   NaN      Reg   \n",
       "2   3          60       RL         68.0    11250   Pave   NaN      IR1   \n",
       "3   4          70       RL         60.0     9550   Pave   NaN      IR1   \n",
       "4   5          60       RL         84.0    14260   Pave   NaN      IR1   \n",
       "\n",
       "  LandContour Utilities    ...     PoolArea PoolQC Fence MiscFeature MiscVal  \\\n",
       "0         Lvl    AllPub    ...            0    NaN   NaN         NaN       0   \n",
       "1         Lvl    AllPub    ...            0    NaN   NaN         NaN       0   \n",
       "2         Lvl    AllPub    ...            0    NaN   NaN         NaN       0   \n",
       "3         Lvl    AllPub    ...            0    NaN   NaN         NaN       0   \n",
       "4         Lvl    AllPub    ...            0    NaN   NaN         NaN       0   \n",
       "\n",
       "  MoSold YrSold  SaleType  SaleCondition  SalePrice  \n",
       "0      2   2008        WD         Normal     208500  \n",
       "1      5   2007        WD         Normal     181500  \n",
       "2      9   2008        WD         Normal     223500  \n",
       "3      2   2006        WD        Abnorml     140000  \n",
       "4     12   2008        WD         Normal     250000  \n",
       "\n",
       "[5 rows x 81 columns]"
      ]
     },
     "execution_count": 3,
     "metadata": {},
     "output_type": "execute_result"
    }
   ],
   "source": [
    "df_train.head()"
   ]
  },
  {
   "cell_type": "code",
   "execution_count": 4,
   "metadata": {},
   "outputs": [],
   "source": [
    "cols1=df_train.columns.values.tolist()\n",
    "cols2=df_test.columns.values.tolist()\n",
    "cols3=cols1+cols2"
   ]
  },
  {
   "cell_type": "code",
   "execution_count": 5,
   "metadata": {},
   "outputs": [
    {
     "name": "stdout",
     "output_type": "stream",
     "text": [
      "Index(['Id', 'MSSubClass', 'MSZoning', 'LotFrontage', 'LotArea', 'Street',\n",
      "       'Alley', 'LotShape', 'LandContour', 'Utilities', 'LotConfig',\n",
      "       'LandSlope', 'Neighborhood', 'Condition1', 'Condition2', 'BldgType',\n",
      "       'HouseStyle', 'OverallQual', 'OverallCond', 'YearBuilt', 'YearRemodAdd',\n",
      "       'RoofStyle', 'RoofMatl', 'Exterior1st', 'Exterior2nd', 'MasVnrType',\n",
      "       'MasVnrArea', 'ExterQual', 'ExterCond', 'Foundation', 'BsmtQual',\n",
      "       'BsmtCond', 'BsmtExposure', 'BsmtFinType1', 'BsmtFinSF1',\n",
      "       'BsmtFinType2', 'BsmtFinSF2', 'BsmtUnfSF', 'TotalBsmtSF', 'Heating',\n",
      "       'HeatingQC', 'CentralAir', 'Electrical', '1stFlrSF', '2ndFlrSF',\n",
      "       'LowQualFinSF', 'GrLivArea', 'BsmtFullBath', 'BsmtHalfBath', 'FullBath',\n",
      "       'HalfBath', 'BedroomAbvGr', 'KitchenAbvGr', 'KitchenQual',\n",
      "       'TotRmsAbvGrd', 'Functional', 'Fireplaces', 'FireplaceQu', 'GarageType',\n",
      "       'GarageYrBlt', 'GarageFinish', 'GarageCars', 'GarageArea', 'GarageQual',\n",
      "       'GarageCond', 'PavedDrive', 'WoodDeckSF', 'OpenPorchSF',\n",
      "       'EnclosedPorch', '3SsnPorch', 'ScreenPorch', 'PoolArea', 'PoolQC',\n",
      "       'Fence', 'MiscFeature', 'MiscVal', 'MoSold', 'YrSold', 'SaleType',\n",
      "       'SaleCondition', 'SalePrice'],\n",
      "      dtype='object')\n"
     ]
    },
    {
     "data": {
      "text/plain": [
       "['SalePrice']"
      ]
     },
     "execution_count": 5,
     "metadata": {},
     "output_type": "execute_result"
    }
   ],
   "source": [
    "un=[]\n",
    "for i in cols3:\n",
    "    if cols3.count(i)==1:\n",
    "        un.append(i)\n",
    "print (df_train.columns)\n",
    "un"
   ]
  },
  {
   "cell_type": "code",
   "execution_count": 7,
   "metadata": {},
   "outputs": [],
   "source": [
    "train_id=df_train['Id']\n",
    "test_id=df_test['Id']"
   ]
  },
  {
   "cell_type": "code",
   "execution_count": 8,
   "metadata": {},
   "outputs": [
    {
     "data": {
      "image/png": "[encoded data removed]",
      "text/plain": [
       "<matplotlib.figure.Figure at 0xb64de48>"
      ]
     },
     "metadata": {},
     "output_type": "display_data"
    }
   ],
   "source": [
    "# Remove 2 apparent outliers\n",
    "\n",
    "fig, ax=plt.subplots()\n",
    "df_train1 = df_train.drop(df_train[(df_train['LotFrontage']>300) & (df_train['SalePrice']<300000)].index)\n",
    "ax.scatter(x=df_train1['LotFrontage'],y=df_train1['SalePrice'])\n",
    "plt.show()"
   ]
  },
  {
   "cell_type": "code",
   "execution_count": 9,
   "metadata": {
    "scrolled": true
   },
   "outputs": [
    {
     "data": {
      "image/png": "[encoded data removed]",
      "text/plain": [
       "<matplotlib.figure.Figure at 0xb677da0>"
      ]
     },
     "metadata": {},
     "output_type": "display_data"
    },
    {
     "data": {
      "image/png": "[encoded data removed]",
      "text/plain": [
       "<matplotlib.figure.Figure at 0xb677e10>"
      ]
     },
     "metadata": {},
     "output_type": "display_data"
    }
   ],
   "source": [
    "sns.distplot(df_train['SalePrice'] , fit=norm);\n",
    "(mu, sigma) = norm.fit(df_train['SalePrice'])\n",
    "#Now plot the distribution\n",
    "plt.legend(['Normal dist. ($\\mu=$ {:.2f} and $\\sigma=$ {:.2f} )'.format(mu, sigma)],\n",
    "            loc='best')\n",
    "plt.ylabel('Frequency')\n",
    "plt.title('SalePrice distribution')\n",
    "\n",
    "#Get also the QQ-plot\n",
    "fig = plt.figure()\n",
    "res = stats.probplot(df_train['SalePrice'], plot=plt)\n",
    "plt.show()"
   ]
  },
  {
   "cell_type": "code",
   "execution_count": 10,
   "metadata": {},
   "outputs": [
    {
     "name": "stdout",
     "output_type": "stream",
     "text": [
      "\n",
      " mu = 12.02 and sigma = 0.40\n",
      "\n"
     ]
    },
    {
     "data": {
      "image/png": "[encoded data removed]",
      "text/plain": [
       "<matplotlib.figure.Figure at 0xc05db00>"
      ]
     },
     "metadata": {},
     "output_type": "display_data"
    },
    {
     "data": {
      "image/png": "[encoded data removed]",
      "text/plain": [
       "<matplotlib.figure.Figure at 0xb9f3cc0>"
      ]
     },
     "metadata": {},
     "output_type": "display_data"
    }
   ],
   "source": [
    "#Transform\n",
    "\n",
    "df_train1['SalePrice']=np.log1p(df_train['SalePrice'])\n",
    "sns.distplot(df_train1['SalePrice'] , fit=norm);\n",
    "# Get the fitted parameters used by the function\n",
    "(mu, sigma) = norm.fit(df_train1['SalePrice'])\n",
    "print( '\\n mu = {:.2f} and sigma = {:.2f}\\n'.format(mu, sigma))\n",
    "\n",
    "#Now plot the distribution\n",
    "plt.legend(['Normal dist. ($\\mu=$ {:.2f} and $\\sigma=$ {:.2f} )'.format(mu, sigma)],\n",
    "            loc='best')\n",
    "plt.ylabel('Frequency')\n",
    "plt.title('SalePrice distribution')\n",
    "\n",
    "#Get also the QQ-plot\n",
    "fig = plt.figure()\n",
    "res = stats.probplot(df_train['SalePrice'], plot=plt)\n",
    "plt.show()"
   ]
  },
  {
   "cell_type": "markdown",
   "metadata": {},
   "source": [
    "## Concatenate\n",
    "Concatenate and perform column datat ajustment"
   ]
  },
  {
   "cell_type": "code",
   "execution_count": 11,
   "metadata": {},
   "outputs": [
    {
     "name": "stdout",
     "output_type": "stream",
     "text": [
      "all_data size is : (2917, 80)\n"
     ]
    },
    {
     "name": "stderr",
     "output_type": "stream",
     "text": [
      "C:\\Users\\ekambulow\\AppData\\Local\\Continuum\\anaconda3\\lib\\site-packages\\ipykernel_launcher.py:4: FutureWarning: Sorting because non-concatenation axis is not aligned. A future version\n",
      "of pandas will change to not sort by default.\n",
      "\n",
      "To accept the future behavior, pass 'sort=False'.\n",
      "\n",
      "To retain the current behavior and silence the warning, pass 'sort=True'.\n",
      "\n",
      "  after removing the cwd from sys.path.\n"
     ]
    }
   ],
   "source": [
    "ntrain = df_train.shape[0]\n",
    "ntest = df_test.shape[0]\n",
    "y_train = df_train1.SalePrice.values\n",
    "all_data = pd.concat((df_train1, df_test)).reset_index(drop=True)\n",
    "all_data.drop(['SalePrice'], axis=1, inplace=True)\n",
    "print(\"all_data size is : {}\".format(all_data.shape))"
   ]
  },
  {
   "cell_type": "markdown",
   "metadata": {},
   "source": [
    "## Evaluate Missing Data"
   ]
  },
  {
   "cell_type": "code",
   "execution_count": 12,
   "metadata": {},
   "outputs": [
    {
     "name": "stdout",
     "output_type": "stream",
     "text": [
      "(30, 1)\n"
     ]
    },
    {
     "data": {
      "text/html": [
       "<div>\n",
       "<style scoped>\n",
       "    .dataframe tbody tr th:only-of-type {\n",
       "        vertical-align: middle;\n",
       "    }\n",
       "\n",
       "    .dataframe tbody tr th {\n",
       "        vertical-align: top;\n",
       "    }\n",
       "\n",
       "    .dataframe thead th {\n",
       "        text-align: right;\n",
       "    }\n",
       "</style>\n",
       "<table border=\"1\" class=\"dataframe\">\n",
       "  <thead>\n",
       "    <tr style=\"text-align: right;\">\n",
       "      <th></th>\n",
       "      <th>Missing Ratio</th>\n",
       "    </tr>\n",
       "  </thead>\n",
       "  <tbody>\n",
       "    <tr>\n",
       "      <th>PoolQC</th>\n",
       "      <td>99.691464</td>\n",
       "    </tr>\n",
       "    <tr>\n",
       "      <th>MiscFeature</th>\n",
       "      <td>96.400411</td>\n",
       "    </tr>\n",
       "    <tr>\n",
       "      <th>Alley</th>\n",
       "      <td>93.212204</td>\n",
       "    </tr>\n",
       "    <tr>\n",
       "      <th>Fence</th>\n",
       "      <td>80.425094</td>\n",
       "    </tr>\n",
       "    <tr>\n",
       "      <th>FireplaceQu</th>\n",
       "      <td>48.680151</td>\n",
       "    </tr>\n",
       "    <tr>\n",
       "      <th>LotFrontage</th>\n",
       "      <td>16.660953</td>\n",
       "    </tr>\n",
       "    <tr>\n",
       "      <th>GarageQual</th>\n",
       "      <td>5.450806</td>\n",
       "    </tr>\n",
       "    <tr>\n",
       "      <th>GarageCond</th>\n",
       "      <td>5.450806</td>\n",
       "    </tr>\n",
       "    <tr>\n",
       "      <th>GarageFinish</th>\n",
       "      <td>5.450806</td>\n",
       "    </tr>\n",
       "    <tr>\n",
       "      <th>GarageYrBlt</th>\n",
       "      <td>5.450806</td>\n",
       "    </tr>\n",
       "    <tr>\n",
       "      <th>GarageType</th>\n",
       "      <td>5.382242</td>\n",
       "    </tr>\n",
       "    <tr>\n",
       "      <th>BsmtExposure</th>\n",
       "      <td>2.811107</td>\n",
       "    </tr>\n",
       "    <tr>\n",
       "      <th>BsmtCond</th>\n",
       "      <td>2.811107</td>\n",
       "    </tr>\n",
       "    <tr>\n",
       "      <th>BsmtQual</th>\n",
       "      <td>2.776826</td>\n",
       "    </tr>\n",
       "    <tr>\n",
       "      <th>BsmtFinType2</th>\n",
       "      <td>2.742544</td>\n",
       "    </tr>\n",
       "    <tr>\n",
       "      <th>BsmtFinType1</th>\n",
       "      <td>2.708262</td>\n",
       "    </tr>\n",
       "    <tr>\n",
       "      <th>MasVnrType</th>\n",
       "      <td>0.822763</td>\n",
       "    </tr>\n",
       "    <tr>\n",
       "      <th>MasVnrArea</th>\n",
       "      <td>0.788481</td>\n",
       "    </tr>\n",
       "    <tr>\n",
       "      <th>MSZoning</th>\n",
       "      <td>0.137127</td>\n",
       "    </tr>\n",
       "    <tr>\n",
       "      <th>BsmtFullBath</th>\n",
       "      <td>0.068564</td>\n",
       "    </tr>\n",
       "  </tbody>\n",
       "</table>\n",
       "</div>"
      ],
      "text/plain": [
       "              Missing Ratio\n",
       "PoolQC            99.691464\n",
       "MiscFeature       96.400411\n",
       "Alley             93.212204\n",
       "Fence             80.425094\n",
       "FireplaceQu       48.680151\n",
       "LotFrontage       16.660953\n",
       "GarageQual         5.450806\n",
       "GarageCond         5.450806\n",
       "GarageFinish       5.450806\n",
       "GarageYrBlt        5.450806\n",
       "GarageType         5.382242\n",
       "BsmtExposure       2.811107\n",
       "BsmtCond           2.811107\n",
       "BsmtQual           2.776826\n",
       "BsmtFinType2       2.742544\n",
       "BsmtFinType1       2.708262\n",
       "MasVnrType         0.822763\n",
       "MasVnrArea         0.788481\n",
       "MSZoning           0.137127\n",
       "BsmtFullBath       0.068564"
      ]
     },
     "execution_count": 12,
     "metadata": {},
     "output_type": "execute_result"
    }
   ],
   "source": [
    "all_data_na = (all_data.isnull().sum() / len(all_data)) * 100\n",
    "all_data_na = all_data_na.drop(all_data_na[all_data_na == 0].index).sort_values(ascending=False)[:30]\n",
    "missing_data = pd.DataFrame({'Missing Ratio' :all_data_na})\n",
    "print(missing_data.shape)\n",
    "missing_data.head(20)"
   ]
  },
  {
   "cell_type": "code",
   "execution_count": 13,
   "metadata": {},
   "outputs": [
    {
     "data": {
      "text/plain": [
       "Text(0.5,1,'Percent missing data by feature')"
      ]
     },
     "execution_count": 13,
     "metadata": {},
     "output_type": "execute_result"
    },
    {
     "data": {
      "image/png": "[encoded data removed]",
      "text/plain": [
       "<matplotlib.figure.Figure at 0xd20f438>"
      ]
     },
     "metadata": {},
     "output_type": "display_data"
    }
   ],
   "source": [
    "f, ax = plt.subplots(figsize=(15, 12))\n",
    "plt.xticks(rotation='90')\n",
    "sns.barplot(x=all_data_na.index, y=all_data_na)\n",
    "plt.xlabel('Features', fontsize=15)\n",
    "plt.ylabel('Percent of missing values', fontsize=15)\n",
    "plt.title('Percent missing data by feature', fontsize=15)"
   ]
  },
  {
   "cell_type": "code",
   "execution_count": 14,
   "metadata": {},
   "outputs": [
    {
     "data": {
      "text/plain": [
       "<matplotlib.axes._subplots.AxesSubplot at 0xc18ec50>"
      ]
     },
     "execution_count": 14,
     "metadata": {},
     "output_type": "execute_result"
    },
    {
     "data": {
      "image/png": "[encoded data removed]",
      "text/plain": [
       "<matplotlib.figure.Figure at 0xc138780>"
      ]
     },
     "metadata": {},
     "output_type": "display_data"
    }
   ],
   "source": [
    "#Correlation map to see how features are correlated with SalePrice\n",
    "corrmat = df_train1.corr()\n",
    "plt.subplots(figsize=(12,9))\n",
    "sns.heatmap(corrmat, vmax=0.9, square=True)"
   ]
  },
  {
   "cell_type": "markdown",
   "metadata": {},
   "source": [
    "## Fill Data for nones"
   ]
  },
  {
   "cell_type": "code",
   "execution_count": 200,
   "metadata": {},
   "outputs": [],
   "source": [
    "#Replace by None - Based on Description\n",
    "cols=['PoolQC','MiscFeature','Alley','Fence','FireplaceQu','GarageType','GarageFinish']\n",
    "bcols=['BsmtQual', 'BsmtCond', 'BsmtExposure', 'BsmtFinType1', 'BsmtFinType2']\n",
    "gcols=['GarageType', 'GarageFinish', 'GarageQual', 'GarageCond']\n",
    "mcols=['MasVnrType','MSSubClass']\n",
    "for col in cols+bcols+gcols+mcols:\n",
    "    all_data[col]=all_data[col].fillna('None')\n",
    "    \n",
    "#Replace by 0 - Based on Descriptions\n",
    "b0cols=['BsmtFinSF1', 'BsmtFinSF2', 'BsmtUnfSF','TotalBsmtSF', 'BsmtFullBath', 'BsmtHalfBath']\n",
    "g0cols=['GarageYrBlt', 'GarageArea', 'GarageCars']\n",
    "m0cols=['MasVnrArea']\n",
    "for col in b0cols+g0cols+m0cols:\n",
    "    all_data[col]=all_data[col].fillna(0)\n",
    "\n",
    "#Replace by Mode since high frequency\n",
    "mmcols=['Functional','SaleType', 'KitchenQual','Exterior2nd','Exterior1st','Electrical','MSZoning']\n",
    "for col in mmcols:\n",
    "    all_data[col]=all_data[col].fillna(all_data[col].mode()[0])\n",
    "\n",
    "#Replace by Median in Neiborhood\n",
    "all_data[\"LotFrontage\"] = all_data.groupby(\"Neighborhood\")[\"LotFrontage\"].transform(\n",
    "    lambda x: x.fillna(x.median()))\n",
    "\n",
    "#Utilities has information that is not Used\n",
    "#all_data.drop(['Utilities'],axis=1)"
   ]
  },
  {
   "cell_type": "code",
   "execution_count": 197,
   "metadata": {},
   "outputs": [
    {
     "name": "stdout",
     "output_type": "stream",
     "text": [
      "Shape : (1, 4)\n"
     ]
    },
    {
     "data": {
      "text/html": [
       "<div>\n",
       "<style scoped>\n",
       "    .dataframe tbody tr th:only-of-type {\n",
       "        vertical-align: middle;\n",
       "    }\n",
       "\n",
       "    .dataframe tbody tr th {\n",
       "        vertical-align: top;\n",
       "    }\n",
       "\n",
       "    .dataframe thead th {\n",
       "        text-align: right;\n",
       "    }\n",
       "</style>\n",
       "<table border=\"1\" class=\"dataframe\">\n",
       "  <thead>\n",
       "    <tr style=\"text-align: right;\">\n",
       "      <th></th>\n",
       "      <th>Column</th>\n",
       "      <th>Missing Ratio</th>\n",
       "      <th>Mode</th>\n",
       "      <th>Percent</th>\n",
       "    </tr>\n",
       "  </thead>\n",
       "  <tbody>\n",
       "    <tr>\n",
       "      <th>0</th>\n",
       "      <td>Utilities</td>\n",
       "      <td>0.068564</td>\n",
       "      <td>AllPub</td>\n",
       "      <td>99</td>\n",
       "    </tr>\n",
       "  </tbody>\n",
       "</table>\n",
       "</div>"
      ],
      "text/plain": [
       "      Column  Missing Ratio    Mode  Percent\n",
       "0  Utilities       0.068564  AllPub       99"
      ]
     },
     "execution_count": 197,
     "metadata": {},
     "output_type": "execute_result"
    }
   ],
   "source": [
    "import math\n",
    "all_data_na = (all_data.isnull().sum() / len(all_data)) * 100\n",
    "all_data_na = all_data_na.drop(all_data_na[all_data_na == 0].index).sort_values(ascending=False)[:30]\n",
    "all_data_na_cols=all_data_na.index.tolist()\n",
    "dl=[]\n",
    "for col in all_data_na_cols:\n",
    "    m=all_data[col].mode().iloc[0]\n",
    "    mia=all_data_na[col]\n",
    "    vc=math.trunc(all_data[col].value_counts().iloc[0]/len(all_data)*100)\n",
    "    dl.append((col,mia,m,vc))\n",
    "missing_data=pd.DataFrame(dl,columns=['Column','Missing Ratio','Mode','Percent'])\n",
    "print(\"Shape :\",missing_data.shape)\n",
    "missing_data"
   ]
  },
  {
   "cell_type": "code",
   "execution_count": 191,
   "metadata": {},
   "outputs": [
    {
     "data": {
      "text/html": [
       "<div>\n",
       "<style scoped>\n",
       "    .dataframe tbody tr th:only-of-type {\n",
       "        vertical-align: middle;\n",
       "    }\n",
       "\n",
       "    .dataframe tbody tr th {\n",
       "        vertical-align: top;\n",
       "    }\n",
       "\n",
       "    .dataframe thead th {\n",
       "        text-align: right;\n",
       "    }\n",
       "</style>\n",
       "<table border=\"1\" class=\"dataframe\">\n",
       "  <thead>\n",
       "    <tr style=\"text-align: right;\">\n",
       "      <th></th>\n",
       "      <th>Column</th>\n",
       "      <th>Missing Ratio</th>\n",
       "      <th>Mode</th>\n",
       "      <th>Percent</th>\n",
       "    </tr>\n",
       "  </thead>\n",
       "  <tbody>\n",
       "    <tr>\n",
       "      <th>0</th>\n",
       "      <td>LotFrontage</td>\n",
       "      <td>16.660953</td>\n",
       "      <td>60</td>\n",
       "      <td>9</td>\n",
       "    </tr>\n",
       "    <tr>\n",
       "      <th>1</th>\n",
       "      <td>Utilities</td>\n",
       "      <td>0.068564</td>\n",
       "      <td>AllPub</td>\n",
       "      <td>99</td>\n",
       "    </tr>\n",
       "  </tbody>\n",
       "</table>\n",
       "</div>"
      ],
      "text/plain": [
       "        Column  Missing Ratio    Mode  Percent\n",
       "0  LotFrontage      16.660953      60        9\n",
       "1    Utilities       0.068564  AllPub       99"
      ]
     },
     "execution_count": 191,
     "metadata": {},
     "output_type": "execute_result"
    }
   ],
   "source": [
    "mode_data\n",
    "missing_data['Column'].tolist()\n",
    "missing_data"
   ]
  },
  {
   "cell_type": "markdown",
   "metadata": {},
   "source": [
    "## Converting Year Date into Datetime"
   ]
  },
  {
   "cell_type": "code",
   "execution_count": null,
   "metadata": {},
   "outputs": [],
   "source": [
    "df = df_train[['YrSold','MoSold','SalePrice']]\n",
    "df=df.astype(str)\n",
    "df['Date']=pd.to_datetime(df['YrSold']+df['MoSold']+df['MoSold'],format=\"%Y%m%d\")\n",
    "df.set_index('Date',inplace=True)\n",
    "df=df.drop(columns=['YrSold','MoSold'])\n",
    "df=df.sort_index()\n",
    "df['SalePrice']=df['SalePrice'].astype(float)\n",
    "df['LogSalePrice']=np.log1p(df['SalePrice'])\n",
    "df.plot()\n",
    "filt=df.groupby(df.index).mean()\n",
    "filt.plot()\n",
    "df.head()"
   ]
  },
  {
   "cell_type": "code",
   "execution_count": null,
   "metadata": {},
   "outputs": [],
   "source": [
    "df['SalePrice']"
   ]
  },
  {
   "cell_type": "code",
   "execution_count": null,
   "metadata": {},
   "outputs": [],
   "source": [
    "pd.pandas.to_datetime(all_data['YrSold'])"
   ]
  },
  {
   "cell_type": "code",
   "execution_count": null,
   "metadata": {},
   "outputs": [],
   "source": []
  },
  {
   "cell_type": "markdown",
   "metadata": {},
   "source": [
    "## labele Encoding Categorical Values"
   ]
  },
  {
   "cell_type": "code",
   "execution_count": 214,
   "metadata": {},
   "outputs": [],
   "source": [
    "from sklearn.preprocessing import LabelEncoder\n",
    "cols = ('FireplaceQu', 'BsmtQual', 'BsmtCond', 'GarageQual', 'GarageCond', \n",
    "        'ExterQual', 'ExterCond','HeatingQC', 'PoolQC', 'KitchenQual', 'BsmtFinType1', \n",
    "        'BsmtFinType2', 'Functional', 'Fence', 'BsmtExposure', 'GarageFinish', 'LandSlope',\n",
    "        'LotShape', 'PavedDrive', 'Street', 'Alley', 'CentralAir', 'MSSubClass', 'OverallCond', \n",
    "        'YrSold', 'MoSold')\n",
    "# process columns, apply LabelEncoder to categorical features\n",
    "all_data_trans=all_data.copy()\n",
    "for c in cols:\n",
    "    lbl = LabelEncoder() \n",
    "    lbl.fit(list(all_data[c].values)) \n",
    "    all_data_trans[c] = lbl.transform(list(all_data[c].values))\n",
    "\n",
    "# shape        \n",
    "#print('Shape all_data: {}'.format(all_data_trns.shape))"
   ]
  },
  {
   "cell_type": "code",
   "execution_count": 218,
   "metadata": {},
   "outputs": [
    {
     "name": "stdout",
     "output_type": "stream",
     "text": [
      "<class 'pandas.core.frame.DataFrame'>\n",
      "RangeIndex: 2917 entries, 0 to 2916\n",
      "Data columns (total 80 columns):\n",
      "1stFlrSF         2917 non-null int64\n",
      "2ndFlrSF         2917 non-null int64\n",
      "3SsnPorch        2917 non-null int64\n",
      "Alley            2917 non-null int64\n",
      "BedroomAbvGr     2917 non-null int64\n",
      "BldgType         2917 non-null object\n",
      "BsmtCond         2917 non-null int64\n",
      "BsmtExposure     2917 non-null int64\n",
      "BsmtFinSF1       2917 non-null float64\n",
      "BsmtFinSF2       2917 non-null float64\n",
      "BsmtFinType1     2917 non-null int64\n",
      "BsmtFinType2     2917 non-null int64\n",
      "BsmtFullBath     2917 non-null float64\n",
      "BsmtHalfBath     2917 non-null float64\n",
      "BsmtQual         2917 non-null int64\n",
      "BsmtUnfSF        2917 non-null float64\n",
      "CentralAir       2917 non-null int64\n",
      "Condition1       2917 non-null object\n",
      "Condition2       2917 non-null object\n",
      "Electrical       2917 non-null object\n",
      "EnclosedPorch    2917 non-null int64\n",
      "ExterCond        2917 non-null int64\n",
      "ExterQual        2917 non-null int64\n",
      "Exterior1st      2917 non-null object\n",
      "Exterior2nd      2917 non-null object\n",
      "Fence            2917 non-null int64\n",
      "FireplaceQu      2917 non-null int64\n",
      "Fireplaces       2917 non-null int64\n",
      "Foundation       2917 non-null object\n",
      "FullBath         2917 non-null int64\n",
      "Functional       2917 non-null int64\n",
      "GarageArea       2917 non-null float64\n",
      "GarageCars       2917 non-null float64\n",
      "GarageCond       2917 non-null int64\n",
      "GarageFinish     2917 non-null int64\n",
      "GarageQual       2917 non-null int64\n",
      "GarageType       2917 non-null object\n",
      "GarageYrBlt      2917 non-null float64\n",
      "GrLivArea        2917 non-null int64\n",
      "HalfBath         2917 non-null int64\n",
      "Heating          2917 non-null object\n",
      "HeatingQC        2917 non-null int64\n",
      "HouseStyle       2917 non-null object\n",
      "Id               2917 non-null int64\n",
      "KitchenAbvGr     2917 non-null int64\n",
      "KitchenQual      2917 non-null int64\n",
      "LandContour      2917 non-null object\n",
      "LandSlope        2917 non-null int64\n",
      "LotArea          2917 non-null int64\n",
      "LotConfig        2917 non-null object\n",
      "LotFrontage      2917 non-null float64\n",
      "LotShape         2917 non-null int64\n",
      "LowQualFinSF     2917 non-null int64\n",
      "MSSubClass       2917 non-null int64\n",
      "MSZoning         2917 non-null object\n",
      "MasVnrArea       2917 non-null float64\n",
      "MasVnrType       2917 non-null object\n",
      "MiscFeature      2917 non-null object\n",
      "MiscVal          2917 non-null int64\n",
      "MoSold           2917 non-null int64\n",
      "Neighborhood     2917 non-null object\n",
      "OpenPorchSF      2917 non-null int64\n",
      "OverallCond      2917 non-null int64\n",
      "OverallQual      2917 non-null int64\n",
      "PavedDrive       2917 non-null int64\n",
      "PoolArea         2917 non-null int64\n",
      "PoolQC           2917 non-null int64\n",
      "RoofMatl         2917 non-null object\n",
      "RoofStyle        2917 non-null object\n",
      "SaleCondition    2917 non-null object\n",
      "SaleType         2917 non-null object\n",
      "ScreenPorch      2917 non-null int64\n",
      "Street           2917 non-null int64\n",
      "TotRmsAbvGrd     2917 non-null int64\n",
      "TotalBsmtSF      2917 non-null float64\n",
      "Utilities        2915 non-null object\n",
      "WoodDeckSF       2917 non-null int64\n",
      "YearBuilt        2917 non-null int64\n",
      "YearRemodAdd     2917 non-null int64\n",
      "YrSold           2917 non-null int64\n",
      "dtypes: float64(11), int64(48), object(21)\n",
      "memory usage: 1.8+ MB\n"
     ]
    }
   ],
   "source": [
    "all_data_trans.info()"
   ]
  },
  {
   "cell_type": "markdown",
   "metadata": {},
   "source": [
    "## Dealing with Skew in the data"
   ]
  },
  {
   "cell_type": "code",
   "execution_count": 219,
   "metadata": {},
   "outputs": [],
   "source": [
    "#MSSubClass=The building class\n",
    "all_data_trans['MSSubClass'] = all_data_trans['MSSubClass'].apply(str)\n",
    "\n",
    "\n",
    "#Changing OverallCond into a categorical variable\n",
    "all_data_trans['OverallCond'] = all_data_trans['OverallCond'].astype(str)\n",
    "\n",
    "\n",
    "#Year and month sold are transformed into categorical features.\n",
    "all_data_trans['YrSold'] = all_data_trans['YrSold'].astype(str)\n",
    "all_data_trans['MoSold'] = all_data_trans['MoSold'].astype(str)"
   ]
  },
  {
   "cell_type": "code",
   "execution_count": 241,
   "metadata": {},
   "outputs": [
    {
     "name": "stdout",
     "output_type": "stream",
     "text": [
      "\n",
      "Skew in numerical features: \n",
      "\n"
     ]
    },
    {
     "data": {
      "text/html": [
       "<div>\n",
       "<style scoped>\n",
       "    .dataframe tbody tr th:only-of-type {\n",
       "        vertical-align: middle;\n",
       "    }\n",
       "\n",
       "    .dataframe tbody tr th {\n",
       "        vertical-align: top;\n",
       "    }\n",
       "\n",
       "    .dataframe thead th {\n",
       "        text-align: right;\n",
       "    }\n",
       "</style>\n",
       "<table border=\"1\" class=\"dataframe\">\n",
       "  <thead>\n",
       "    <tr style=\"text-align: right;\">\n",
       "      <th></th>\n",
       "      <th>Skew</th>\n",
       "    </tr>\n",
       "  </thead>\n",
       "  <tbody>\n",
       "    <tr>\n",
       "      <th>MiscVal</th>\n",
       "      <td>21.939672</td>\n",
       "    </tr>\n",
       "    <tr>\n",
       "      <th>PoolArea</th>\n",
       "      <td>17.688664</td>\n",
       "    </tr>\n",
       "    <tr>\n",
       "      <th>LotArea</th>\n",
       "      <td>13.058210</td>\n",
       "    </tr>\n",
       "    <tr>\n",
       "      <th>LowQualFinSF</th>\n",
       "      <td>12.084539</td>\n",
       "    </tr>\n",
       "    <tr>\n",
       "      <th>3SsnPorch</th>\n",
       "      <td>11.372080</td>\n",
       "    </tr>\n",
       "    <tr>\n",
       "      <th>KitchenAbvGr</th>\n",
       "      <td>4.300550</td>\n",
       "    </tr>\n",
       "    <tr>\n",
       "      <th>BsmtFinSF2</th>\n",
       "      <td>4.144503</td>\n",
       "    </tr>\n",
       "    <tr>\n",
       "      <th>EnclosedPorch</th>\n",
       "      <td>4.002344</td>\n",
       "    </tr>\n",
       "    <tr>\n",
       "      <th>ScreenPorch</th>\n",
       "      <td>3.945101</td>\n",
       "    </tr>\n",
       "    <tr>\n",
       "      <th>BsmtHalfBath</th>\n",
       "      <td>3.929996</td>\n",
       "    </tr>\n",
       "  </tbody>\n",
       "</table>\n",
       "</div>"
      ],
      "text/plain": [
       "                    Skew\n",
       "MiscVal        21.939672\n",
       "PoolArea       17.688664\n",
       "LotArea        13.058210\n",
       "LowQualFinSF   12.084539\n",
       "3SsnPorch      11.372080\n",
       "KitchenAbvGr    4.300550\n",
       "BsmtFinSF2      4.144503\n",
       "EnclosedPorch   4.002344\n",
       "ScreenPorch     3.945101\n",
       "BsmtHalfBath    3.929996"
      ]
     },
     "execution_count": 241,
     "metadata": {},
     "output_type": "execute_result"
    }
   ],
   "source": [
    "numeric_feats = all_data_trans.dtypes[all_data.dtypes != \"object\"].index\n",
    "all_data_trans.dtypes.value_counts()\n",
    "# Check the skew of all numerical features\n",
    "skewed_feats = all_data[numeric_feats].apply(lambda x: stats.skew(x.dropna())).sort_values(ascending=False)\n",
    "print(\"\\nSkew in numerical features: \\n\")\n",
    "skewness = pd.DataFrame({'Skew' :skewed_feats})\n",
    "skewness.head(10)"
   ]
  },
  {
   "cell_type": "code",
   "execution_count": 245,
   "metadata": {},
   "outputs": [
    {
     "data": {
      "text/plain": [
       "<bound method DataFrame.melt of       1stFlrSF  2ndFlrSF  3SsnPorch Alley  BedroomAbvGr BldgType BsmtCond  \\\n",
       "0          856       854          0  None             3     1Fam       TA   \n",
       "1         1262         0          0  None             3     1Fam       TA   \n",
       "2          920       866          0  None             3     1Fam       TA   \n",
       "3          961       756          0  None             3     1Fam       Gd   \n",
       "4         1145      1053          0  None             4     1Fam       TA   \n",
       "5          796       566        320  None             1     1Fam       TA   \n",
       "6         1694         0          0  None             3     1Fam       TA   \n",
       "7         1107       983          0  None             3     1Fam       TA   \n",
       "8         1022       752          0  None             2     1Fam       TA   \n",
       "9         1077         0          0  None             2   2fmCon       TA   \n",
       "10        1040         0          0  None             3     1Fam       TA   \n",
       "11        1182      1142          0  None             4     1Fam       TA   \n",
       "12         912         0          0  None             2     1Fam       TA   \n",
       "13        1494         0          0  None             3     1Fam       TA   \n",
       "14        1253         0          0  None             2     1Fam       TA   \n",
       "15         854         0          0  None             2     1Fam       TA   \n",
       "16        1004         0          0  None             2     1Fam       TA   \n",
       "17        1296         0          0  None             2   Duplex     None   \n",
       "18        1114         0          0  None             3     1Fam       TA   \n",
       "19        1339         0          0  None             3     1Fam       TA   \n",
       "20        1158      1218          0  None             4     1Fam       TA   \n",
       "21        1108         0          0  Grvl             3     1Fam       TA   \n",
       "22        1795         0          0  None             3     1Fam       TA   \n",
       "23        1060         0          0  None             3   TwnhsE       TA   \n",
       "24        1060         0          0  None             3     1Fam       TA   \n",
       "25        1600         0          0  None             3     1Fam       TA   \n",
       "26         900         0          0  None             3     1Fam       TA   \n",
       "27        1704         0          0  None             3     1Fam       TA   \n",
       "28        1600         0          0  None             2     1Fam       TA   \n",
       "29         520         0          0  None             1     1Fam       TA   \n",
       "...        ...       ...        ...   ...           ...      ...      ...   \n",
       "2887       641         0          0  None             2     1Fam       TA   \n",
       "2888       967       671          0  None             4     1Fam       TA   \n",
       "2889       729         0          0  None             2     1Fam     None   \n",
       "2890      1060       336          0  None             4   2fmCon       TA   \n",
       "2891       576       360          0  None             2     1Fam       Fa   \n",
       "2892      1778         0          0  None             2   TwnhsE       TA   \n",
       "2893      1646         0          0  None             2   TwnhsE       TA   \n",
       "2894      1625         0          0  None             3     1Fam       TA   \n",
       "2895      1664         0          0  None             4   Duplex       TA   \n",
       "2896      1491         0          0  None             3     1Fam       TA   \n",
       "2897      1210         0          0  None             3     1Fam       TA   \n",
       "2898      1650         0          0  None             2     1Fam       TA   \n",
       "2899      1403         0          0  None             2     1Fam       TA   \n",
       "2900      1960         0          0  None             3     1Fam       Gd   \n",
       "2901      1838         0          0  None             3     1Fam       TA   \n",
       "2902      1600         0          0  None             3     1Fam     None   \n",
       "2903      1368         0          0  None             2   Duplex       TA   \n",
       "2904       616       688          0  None             3   TwnhsE       TA   \n",
       "2905       874         0          0  None             3     1Fam       TA   \n",
       "2906      1652         0          0  None             4   Duplex       TA   \n",
       "2907       630         0          0  None             1    Twnhs       TA   \n",
       "2908       546       546          0  None             3   TwnhsE       TA   \n",
       "2909      1360         0          0  None             3     1Fam       TA   \n",
       "2910       546       546          0  None             3    Twnhs       TA   \n",
       "2911       546       546          0  None             3    Twnhs       TA   \n",
       "2912       546       546          0  None             3    Twnhs       TA   \n",
       "2913       546       546          0  None             3   TwnhsE       TA   \n",
       "2914      1224         0          0  None             4     1Fam       TA   \n",
       "2915       970         0          0  None             3     1Fam       TA   \n",
       "2916       996      1004          0  None             3     1Fam       TA   \n",
       "\n",
       "     BsmtExposure  BsmtFinSF1  BsmtFinSF2  ...   SaleType ScreenPorch  Street  \\\n",
       "0              No       706.0         0.0  ...         WD           0    Pave   \n",
       "1              Gd       978.0         0.0  ...         WD           0    Pave   \n",
       "2              Mn       486.0         0.0  ...         WD           0    Pave   \n",
       "3              No       216.0         0.0  ...         WD           0    Pave   \n",
       "4              Av       655.0         0.0  ...         WD           0    Pave   \n",
       "5              No       732.0         0.0  ...         WD           0    Pave   \n",
       "6              Av      1369.0         0.0  ...         WD           0    Pave   \n",
       "7              Mn       859.0        32.0  ...         WD           0    Pave   \n",
       "8              No         0.0         0.0  ...         WD           0    Pave   \n",
       "9              No       851.0         0.0  ...         WD           0    Pave   \n",
       "10             No       906.0         0.0  ...         WD           0    Pave   \n",
       "11             No       998.0         0.0  ...        New           0    Pave   \n",
       "12             No       737.0         0.0  ...         WD         176    Pave   \n",
       "13             Av         0.0         0.0  ...        New           0    Pave   \n",
       "14             No       733.0         0.0  ...         WD           0    Pave   \n",
       "15             No         0.0         0.0  ...         WD           0    Pave   \n",
       "16             No       578.0         0.0  ...         WD           0    Pave   \n",
       "17           None         0.0         0.0  ...         WD           0    Pave   \n",
       "18             No       646.0         0.0  ...         WD           0    Pave   \n",
       "19             No       504.0         0.0  ...        COD           0    Pave   \n",
       "20             Av         0.0         0.0  ...        New           0    Pave   \n",
       "21             No         0.0         0.0  ...         WD           0    Pave   \n",
       "22             No         0.0         0.0  ...         WD           0    Pave   \n",
       "23             No       840.0         0.0  ...         WD           0    Pave   \n",
       "24             Mn       188.0       668.0  ...         WD           0    Pave   \n",
       "25             No         0.0         0.0  ...         WD           0    Pave   \n",
       "26             Mn       234.0       486.0  ...         WD           0    Pave   \n",
       "27             No      1218.0         0.0  ...         WD           0    Pave   \n",
       "28             Gd      1277.0         0.0  ...         WD           0    Pave   \n",
       "29             No         0.0         0.0  ...         WD           0    Pave   \n",
       "...           ...         ...         ...  ...        ...         ...     ...   \n",
       "2887           No         0.0         0.0  ...         WD           0    Pave   \n",
       "2888           No         0.0         0.0  ...         WD           0    Pave   \n",
       "2889         None         0.0         0.0  ...         WD           0    Pave   \n",
       "2890           Mn         0.0         0.0  ...         WD           0    Pave   \n",
       "2891           No         0.0         0.0  ...         WD           0    Grvl   \n",
       "2892           Gd      1573.0         0.0  ...        New         153    Pave   \n",
       "2893           Gd      1564.0         0.0  ...         WD         155    Pave   \n",
       "2894           Gd       776.0         0.0  ...         WD           0    Pave   \n",
       "2895           Mn         0.0         0.0  ...         WD           0    Pave   \n",
       "2896           No         0.0         0.0  ...         WD           0    Pave   \n",
       "2897           Av       576.0         0.0  ...         WD           0    Pave   \n",
       "2898           Gd       909.0         0.0  ...         WD         138    Pave   \n",
       "2899           Av      1136.0       116.0  ...         WD           0    Pave   \n",
       "2900           Av      1350.0         0.0  ...        New           0    Pave   \n",
       "2901           Gd      1455.0         0.0  ...        New           0    Pave   \n",
       "2902         None         0.0         0.0  ...         WD           0    Pave   \n",
       "2903           Gd      1243.0         0.0  ...         WD           0    Pave   \n",
       "2904           Mn         0.0         0.0  ...         WD           0    Pave   \n",
       "2905           No       441.0         0.0  ...         WD           0    Pave   \n",
       "2906           No       149.0         0.0  ...         WD           0    Pave   \n",
       "2907           Av       522.0         0.0  ...         WD           0    Pave   \n",
       "2908           No       252.0         0.0  ...         WD           0    Pave   \n",
       "2909           Av       119.0       344.0  ...         WD           0    Pave   \n",
       "2910           No       408.0         0.0  ...         WD           0    Pave   \n",
       "2911           No         0.0         0.0  ...         WD           0    Pave   \n",
       "2912           No         0.0         0.0  ...         WD           0    Pave   \n",
       "2913           No       252.0         0.0  ...         WD           0    Pave   \n",
       "2914           No      1224.0         0.0  ...         WD           0    Pave   \n",
       "2915           Av       337.0         0.0  ...         WD           0    Pave   \n",
       "2916           Av       758.0         0.0  ...         WD           0    Pave   \n",
       "\n",
       "      TotRmsAbvGrd TotalBsmtSF  Utilities WoodDeckSF YearBuilt YearRemodAdd  \\\n",
       "0                8       856.0     AllPub          0      2003         2003   \n",
       "1                6      1262.0     AllPub        298      1976         1976   \n",
       "2                6       920.0     AllPub          0      2001         2002   \n",
       "3                7       756.0     AllPub          0      1915         1970   \n",
       "4                9      1145.0     AllPub        192      2000         2000   \n",
       "5                5       796.0     AllPub         40      1993         1995   \n",
       "6                7      1686.0     AllPub        255      2004         2005   \n",
       "7                7      1107.0     AllPub        235      1973         1973   \n",
       "8                8       952.0     AllPub         90      1931         1950   \n",
       "9                5       991.0     AllPub          0      1939         1950   \n",
       "10               5      1040.0     AllPub          0      1965         1965   \n",
       "11              11      1175.0     AllPub        147      2005         2006   \n",
       "12               4       912.0     AllPub        140      1962         1962   \n",
       "13               7      1494.0     AllPub        160      2006         2007   \n",
       "14               5      1253.0     AllPub          0      1960         1960   \n",
       "15               5       832.0     AllPub         48      1929         2001   \n",
       "16               5      1004.0     AllPub          0      1970         1970   \n",
       "17               6         0.0     AllPub          0      1967         1967   \n",
       "18               6      1114.0     AllPub          0      2004         2004   \n",
       "19               6      1029.0     AllPub          0      1958         1965   \n",
       "20               9      1158.0     AllPub        240      2005         2006   \n",
       "21               6       637.0     AllPub          0      1930         1950   \n",
       "22               7      1777.0     AllPub        171      2002         2002   \n",
       "23               6      1040.0     AllPub        100      1976         1976   \n",
       "24               6      1060.0     AllPub        406      1968         2001   \n",
       "25               7      1566.0     AllPub          0      2007         2007   \n",
       "26               5       900.0     AllPub        222      1951         2000   \n",
       "27               7      1704.0     AllPub          0      2007         2008   \n",
       "28               6      1484.0     AllPub        288      1957         1997   \n",
       "29               4       520.0     AllPub         49      1927         1950   \n",
       "...            ...         ...        ...        ...       ...          ...   \n",
       "2887             4       641.0     AllPub        184      1925         1950   \n",
       "2888             6       967.0     AllPub          0      1957         1957   \n",
       "2889             5         0.0     AllPub          0      1945         1950   \n",
       "2890             8       660.0     AllPub          0      1951         1951   \n",
       "2891             6       216.0     AllPub          0      1916         1950   \n",
       "2892             5      1573.0     AllPub        123      2005         2006   \n",
       "2893             5      1594.0     AllPub        128      2004         2005   \n",
       "2894             6      1625.0     AllPub        136      1979         1979   \n",
       "2895            10      1664.0     AllPub          0      1978         1978   \n",
       "2896             7      1491.0     AllPub        120      2001         2001   \n",
       "2897             6      1128.0     AllPub          0      1975         1975   \n",
       "2898             6      1632.0     AllPub          0      1958         1958   \n",
       "2899             5      1381.0     AllPub          0      2000         2000   \n",
       "2900             8      1728.0     AllPub        172      2005         2006   \n",
       "2901             9      1838.0     AllPub        161      2005         2006   \n",
       "2902             6         0.0     AllPub          0      1951         1951   \n",
       "2903             8      1288.0     AllPub          0      1997         1997   \n",
       "2904             5       264.0     AllPub        141      1977         1977   \n",
       "2905             5       864.0     AllPub          0      1968         2003   \n",
       "2906             8      1652.0     AllPub          0      1970         1970   \n",
       "2907             3       630.0     AllPub          0      1970         1970   \n",
       "2908             5       546.0     AllPub          0      1972         1972   \n",
       "2909             8      1104.0     AllPub        160      1969         1979   \n",
       "2910             5       546.0     AllPub          0      1970         1970   \n",
       "2911             5       546.0     AllPub          0      1970         1970   \n",
       "2912             5       546.0     AllPub          0      1970         1970   \n",
       "2913             6       546.0     AllPub          0      1970         1970   \n",
       "2914             7      1224.0     AllPub        474      1960         1996   \n",
       "2915             6       912.0     AllPub         80      1992         1992   \n",
       "2916             9       996.0     AllPub        190      1993         1994   \n",
       "\n",
       "     YrSold  \n",
       "0      2008  \n",
       "1      2007  \n",
       "2      2008  \n",
       "3      2006  \n",
       "4      2008  \n",
       "5      2009  \n",
       "6      2007  \n",
       "7      2009  \n",
       "8      2008  \n",
       "9      2008  \n",
       "10     2008  \n",
       "11     2006  \n",
       "12     2008  \n",
       "13     2007  \n",
       "14     2008  \n",
       "15     2007  \n",
       "16     2010  \n",
       "17     2006  \n",
       "18     2008  \n",
       "19     2009  \n",
       "20     2006  \n",
       "21     2007  \n",
       "22     2008  \n",
       "23     2007  \n",
       "24     2010  \n",
       "25     2009  \n",
       "26     2010  \n",
       "27     2010  \n",
       "28     2006  \n",
       "29     2008  \n",
       "...     ...  \n",
       "2887   2006  \n",
       "2888   2006  \n",
       "2889   2006  \n",
       "2890   2006  \n",
       "2891   2006  \n",
       "2892   2006  \n",
       "2893   2006  \n",
       "2894   2006  \n",
       "2895   2006  \n",
       "2896   2006  \n",
       "2897   2006  \n",
       "2898   2006  \n",
       "2899   2006  \n",
       "2900   2006  \n",
       "2901   2006  \n",
       "2902   2006  \n",
       "2903   2006  \n",
       "2904   2006  \n",
       "2905   2006  \n",
       "2906   2006  \n",
       "2907   2006  \n",
       "2908   2006  \n",
       "2909   2006  \n",
       "2910   2006  \n",
       "2911   2006  \n",
       "2912   2006  \n",
       "2913   2006  \n",
       "2914   2006  \n",
       "2915   2006  \n",
       "2916   2006  \n",
       "\n",
       "[2917 rows x 80 columns]>"
      ]
     },
     "execution_count": 245,
     "metadata": {},
     "output_type": "execute_result"
    }
   ],
   "source": [
    "all_data."
   ]
  },
  {
   "cell_type": "code",
   "execution_count": 243,
   "metadata": {},
   "outputs": [
    {
     "data": {
      "image/png": "[encoded data removed]",
      "text/plain": [
       "<matplotlib.figure.Figure at 0x119e07b8>"
      ]
     },
     "metadata": {},
     "output_type": "display_data"
    }
   ],
   "source": [
    "ax=sns.violinplot(datax=all_data['PoolArea'])"
   ]
  },
  {
   "cell_type": "markdown",
   "metadata": {},
   "source": [
    "##  Reference Material\n",
    "\n",
    "1.  Python datamaninpuation reference (https://www.analyticsvidhya.com/blog/2016/01/12-pandas-techniques-python-data-manipulation/)"
   ]
  },
  {
   "cell_type": "code",
   "execution_count": null,
   "metadata": {},
   "outputs": [],
   "source": []
  }
 ],
 "metadata": {
  "kernelspec": {
   "display_name": "Python 3",
   "language": "python",
   "name": "python3"
  },
  "language_info": {
   "codemirror_mode": {
    "name": "ipython",
    "version": 3
   },
   "file_extension": ".py",
   "mimetype": "text/x-python",
   "name": "python",
   "nbconvert_exporter": "python",
   "pygments_lexer": "ipython3",
   "version": "3.6.4"
  },
  "toc": {
   "base_numbering": 1,
   "nav_menu": {},
   "number_sections": true,
   "sideBar": true,
   "skip_h1_title": false,
   "title_cell": "Table of Contents",
   "title_sidebar": "Contents",
   "toc_cell": false,
   "toc_position": {},
   "toc_section_display": true,
   "toc_window_display": false
  },
  "varInspector": {
   "cols": {
    "lenName": 16,
    "lenType": 16,
    "lenVar": 40
   },
   "kernels_config": {
    "python": {
     "delete_cmd_postfix": "",
     "delete_cmd_prefix": "del ",
     "library": "var_list.py",
     "varRefreshCmd": "print(var_dic_list())"
    },
    "r": {
     "delete_cmd_postfix": ") ",
     "delete_cmd_prefix": "rm(",
     "library": "var_list.r",
     "varRefreshCmd": "cat(var_dic_list()) "
    }
   },
   "types_to_exclude": [
    "module",
    "function",
    "builtin_function_or_method",
    "instance",
    "_Feature"
   ],
   "window_display": false
  }
 },
 "nbformat": 4,
 "nbformat_minor": 2
}
